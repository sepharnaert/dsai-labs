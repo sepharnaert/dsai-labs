{
 "cells": [
  {
   "cell_type": "markdown",
   "metadata": {},
   "source": [
    "# Lab 3.02 - Statistical hypothesis testing\n",
    "\n",
    "## Exercise 1 - Binding recommendation on continuation of studies \n",
    "\n",
    "It is being said that introducing a “binding recommendation on continuation of studies” (refusing enrollment in the next academic year if a student did not complete a certain level of credits, NL: \"bindend studie-advies, BSA\") has a positive effect on the study efficiency and success rate. Before the introduction of binding recommendations, the number of completed credits per student per year was 44 with a standard deviation of 6.2. After the introduction, a sample of 72 random students has an average number of completed credits of 46.2.\n",
    "\n",
    "1. Test whether there is evidence that the introduction of binding recommendations has improved the success rate among students. Calculate the critical value for a significance level of $\\alpha = 2.5\\%$.\n",
    "2. Do the same by calculating the $p$-value.\n",
    "3. Interpret the meaning of $\\alpha$ being 2.5%."
   ]
  },
  {
   "cell_type": "code",
   "execution_count": 3,
   "metadata": {},
   "outputs": [],
   "source": [
    "# Importing the necessary packages\n",
    "import numpy as np                                  # \"Scientific computing\"\n",
    "import scipy.stats as stats                         # Statistical tests\n",
    "\n",
    "import random\n",
    "import math\n",
    "\n",
    "import pandas as pd                                 # Data Frame\n",
    "from pandas.api.types import CategoricalDtype\n",
    "\n",
    "import matplotlib.pyplot as plt                     # Basic visualisation\n",
    "from statsmodels.graphics.mosaicplot import mosaic  # Mosaic diagram\n",
    "import seaborn as sns                               # Advanced data visualisation\n",
    "#import altair as alt                                # Alternative visualisation system"
   ]
  },
  {
   "attachments": {},
   "cell_type": "markdown",
   "metadata": {},
   "source": [
    "The testing procedure then runs as follows:\n",
    "\n",
    "**Step 1.** Formulate the hypotheses:\n",
    "\n",
    "- $H_0: \\mu = 44.0$\n",
    "- $H_1: \\mu > 44.0$\n",
    "\n",
    "**Step 2.** Choose a significance level, e.g. $\\alpha = 0.025$"
   ]
  },
  {
   "cell_type": "code",
   "execution_count": 4,
   "metadata": {},
   "outputs": [],
   "source": [
    "# Properties of the sample:\n",
    "n = 72      # sample size\n",
    "sm = 46.2  # sample mean\n",
    "s = 6.2    # population standard deviation (assumed to be known)\n",
    "a = 0.025    # significance level (chosen by the researcher)\n",
    "m0 = 44    # hypothetical population mean (H0)"
   ]
  },
  {
   "cell_type": "markdown",
   "metadata": {},
   "source": [
    "A plot of this case:"
   ]
  },
  {
   "cell_type": "code",
   "execution_count": 5,
   "metadata": {},
   "outputs": [
    {
     "data": {
      "text/plain": [
       "<matplotlib.lines.Line2D at 0x1ebca00fa60>"
      ]
     },
     "execution_count": 5,
     "metadata": {},
     "output_type": "execute_result"
    },
    {
     "data": {
      "image/png": "[encoded data removed]",
      "text/plain": [
       "<Figure size 640x480 with 1 Axes>"
      ]
     },
     "metadata": {},
     "output_type": "display_data"
    }
   ],
   "source": [
    "# Gauss-curve plot:\n",
    "# X-values\n",
    "dist_x = np.linspace(m0 - 4 * s/np.sqrt(n), m0 + 4 * s/np.sqrt(n), num=201)\n",
    "# Y-values for the Gauss curve\n",
    "dist_y = stats.norm.pdf(dist_x, m0, s/np.sqrt(n))\n",
    "fig, dplot = plt.subplots(1, 1)\n",
    "# Plot the Gauss-curve\n",
    "dplot.plot(dist_x, dist_y)\n",
    "# Show the hypothetical population mean with an orange line\n",
    "dplot.axvline(m0, color=\"orange\", lw=2)\n",
    "# Show the sample mean with a red line\n",
    "dplot.axvline(sm, color=\"red\")"
   ]
  },
  {
   "attachments": {},
   "cell_type": "markdown",
   "metadata": {},
   "source": [
    "**Step 3.** Determine the value of the test statistic, in this case $\\overline{x} = 46.2$"
   ]
  },
  {
   "cell_type": "markdown",
   "metadata": {},
   "source": [
    "**Step 4.** \n",
    "\n",
    "<u>Method 1</u>\n",
    "\n",
    "Determine the $p$-value and reject $H_0$ if $p < \\alpha$.  \n",
    "The $p$-value is the probability, if the null hypothesis is true, to obtain\n",
    "a value for the test statistic that is at least as extreme as the\n",
    "observed value\n"
   ]
  },
  {
   "cell_type": "code",
   "execution_count": 6,
   "metadata": {},
   "outputs": [
    {
     "name": "stdout",
     "output_type": "stream",
     "text": [
      "p-value: 0.00130\n",
      "p < a: reject H0\n"
     ]
    }
   ],
   "source": [
    "p = stats.norm.sf(sm, loc=m0, scale=s/np.sqrt(n))\n",
    "print(\"p-value: %.5f\" % p)\n",
    "if(p < a):\n",
    "    print(\"p < a: reject H0\")\n",
    "else:\n",
    "    print(\"p > a: do not reject H0\")"
   ]
  },
  {
   "cell_type": "markdown",
   "metadata": {},
   "source": [
    "<u>Method 2</u>\n",
    "\n",
    "An alternative method is to determine the critical region, i.e. the set of all values for the sample mean where $H_0$ may be rejected.  \n",
    "The boundary of that area is called the critical value $g$. To the left of it you can't reject $H_0$ (acceptance region), to the right you can (critical region). The area of the acceptance region is $1 - \\alpha$, the area of the critical region is $\\alpha$."
   ]
  },
  {
   "cell_type": "code",
   "execution_count": 7,
   "metadata": {},
   "outputs": [
    {
     "name": "stdout",
     "output_type": "stream",
     "text": [
      "Critical value g ≃ 45.432\n",
      "sample mean = 46.200 > g = 45.432: reject H0\n"
     ]
    }
   ],
   "source": [
    "g = stats.norm.isf(a, loc = m0, scale = s / np.sqrt(n))\n",
    "print(\"Critical value g ≃ %.3f\" % g)\n",
    "if (sm < g):\n",
    "    print(\"sample mean = %.3f < g = %.3f: do not reject H0\" % (sm, g))\n",
    "else:\n",
    "    print(\"sample mean = %.3f > g = %.3f: reject H0\" % (sm, g))"
   ]
  },
  {
   "cell_type": "markdown",
   "metadata": {},
   "source": [
    "**Step 5**  \n",
    "We can conclude that if we assume that  $H_0$  is true, the probability to draw a sample from this population with this particular value for  $\\bar{x}$  is very small indeed. With the chosen significance level, we can reject the null hypothesis."
   ]
  },
  {
   "cell_type": "markdown",
   "metadata": {},
   "source": [
    "\n",
    "### Answers\n",
    "\n",
    "1. $g \\approx 45.4 < x = 46.2$.\n",
    "\n",
    "    $x$ is inside the critical region, so we can reject the null hypothesis. Therefore, we can assume that binding recommendation on continuation of studies does increase the success rate.\n",
    "\n",
    "2. $P(M > 46.2) \\approx 0.0013 < \\alpha = 0.025$. The probability value is smaller than the significance level, so we can reject the null hypothesis.\n",
    "3. $\\alpha$ represents the probability of rejecting a true null hypothesis $H_0$. In other words, there is a 2.5% chance that you wrongly conclude that the success rate has increased."
   ]
  },
  {
   "attachments": {},
   "cell_type": "markdown",
   "metadata": {},
   "source": [
    "The testing procedure then runs as follows:\n",
    "\n",
    "**Step 1.** Formulate the hypotheses:\n",
    "\n",
    "- $H_0: \\mu = 300.0$\n",
    "- $H_1: \\mu > 300.0$\n",
    "\n",
    "**Step 2.** Choose a significance level, e.g. $\\alpha = 0.05$"
   ]
  },
  {
   "cell_type": "code",
   "execution_count": 13,
   "metadata": {},
   "outputs": [],
   "source": [
    "# Properties of the sample:\n",
    "prices = [400, 350, 400, 500, 300, 350, 200, 500, 200, 250, 250, 500, 350, 100]\n",
    "n = len(prices)     # sample size\n",
    "sm = np.mean(prices)  # sample mean\n",
    "s = np.std(prices, ddof=1)    # population standard deviation (assumed to be known)\n",
    "a = 0.05    # significance level (chosen by the researcher)\n",
    "m0 = 300    # hypothetical population mean (H0)"
   ]
  },
  {
   "cell_type": "markdown",
   "metadata": {},
   "source": [
    "A plot of this case:"
   ]
  },
  {
   "cell_type": "code",
   "execution_count": 19,
   "metadata": {},
   "outputs": [
    {
     "data": {
      "text/plain": [
       "<matplotlib.lines.Line2D at 0x1ebcc947280>"
      ]
     },
     "execution_count": 19,
     "metadata": {},
     "output_type": "execute_result"
    },
    {
     "data": {
      "image/png": "[encoded data removed]",
      "text/plain": [
       "<Figure size 640x480 with 1 Axes>"
      ]
     },
     "metadata": {},
     "output_type": "display_data"
    }
   ],
   "source": [
    "# Gauss-curve plot:\n",
    "# X-values\n",
    "dist_x = np.linspace(m0 - 4 * s/np.sqrt(n), m0 + 4 * s/np.sqrt(n), num=201)\n",
    "# Y-values for the Gauss curve\n",
    "dist_y = stats.t.pdf(dist_x, loc = m0, scale = s/np.sqrt(n), df = n-1)\n",
    "fig, dplot = plt.subplots(1, 1)\n",
    "# Plot the Gauss-curve\n",
    "dplot.plot(dist_x, dist_y)\n",
    "# Show the hypothetical population mean with an orange line\n",
    "dplot.axvline(m0, color=\"orange\", lw=2)\n",
    "# Show the sample mean with a red line\n",
    "dplot.axvline(sm, color=\"red\")"
   ]
  },
  {
   "cell_type": "markdown",
   "metadata": {},
   "source": [
    "**Step 3.** Determine the value of the test statistic, in this case $\\overline{x} = 46.2$"
   ]
  },
  {
   "cell_type": "markdown",
   "metadata": {},
   "source": [
    "**Step 4.** \n",
    "\n",
    "<u>Method 1</u>\n",
    "\n",
    "Determine the $p$-value and reject $H_0$ if $p < \\alpha$.  \n",
    "The $p$-value is the probability, if the null hypothesis is true, to obtain\n",
    "a value for the test statistic that is at least as extreme as the\n",
    "observed value\n"
   ]
  },
  {
   "cell_type": "code",
   "execution_count": 20,
   "metadata": {},
   "outputs": [
    {
     "name": "stdout",
     "output_type": "stream",
     "text": [
      "p-value: 0.17381\n",
      "p > a: do not reject H0\n"
     ]
    }
   ],
   "source": [
    "p = stats.t.sf(sm, loc=m0, scale=s/np.sqrt(n), df = n-1)\n",
    "print(\"p-value: %.5f\" % p)\n",
    "if(p < a):\n",
    "    print(\"p < a: reject H0\")\n",
    "else:\n",
    "    print(\"p > a: do not reject H0\")"
   ]
  },
  {
   "cell_type": "markdown",
   "metadata": {},
   "source": [
    "<u>Method 2</u>\n",
    "\n",
    "An alternative method is to determine the critical region, i.e. the set of all values for the sample mean where $H_0$ may be rejected.  \n",
    "The boundary of that area is called the critical value $g$. To the left of it you can't reject $H_0$ (acceptance region), to the right you can (critical region). The area of the acceptance region is $1 - \\alpha$, the area of the critical region is $\\alpha$."
   ]
  },
  {
   "cell_type": "code",
   "execution_count": 21,
   "metadata": {},
   "outputs": [
    {
     "name": "stdout",
     "output_type": "stream",
     "text": [
      "Critical value g ≃ 358.417\n",
      "sample mean = 332.143 < g = 358.417: do not reject H0\n"
     ]
    }
   ],
   "source": [
    "g = stats.t.isf(a, loc = m0, scale = s / np.sqrt(n), df = n-1)\n",
    "print(\"Critical value g ≃ %.3f\" % g)\n",
    "if (sm < g):\n",
    "    print(\"sample mean = %.3f < g = %.3f: do not reject H0\" % (sm, g))\n",
    "else:\n",
    "    print(\"sample mean = %.3f > g = %.3f: reject H0\" % (sm, g))"
   ]
  },
  {
   "attachments": {},
   "cell_type": "markdown",
   "metadata": {},
   "source": [
    "**Step 5**  \n",
    "We can conclude that there is not enough evidence to reject the null hypothesis."
   ]
  },
  {
   "cell_type": "markdown",
   "metadata": {},
   "source": [
    "### Answers\n",
    "\n",
    "In this context ($n = 14 < 30$) the $z$-test cannot be used. Instead, we use Student’s $t$-test.\n",
    "\n",
    "- $x \\approx 332.143$\n",
    "- $s \\approx 123.424$\n",
    "- $g \\approx 358.42$. The sample mean is outside of the critical region, so we cannot reject $H_0$.\n",
    "- $p \\approx 0.1738$. $p \\nless \\alpha$ , so we cannot reject $H_0$. Based on this sample there is no reason to assume that the average price difference on the residual value of old cars is significantly higher than the amount recommended by the importer."
   ]
  },
  {
   "cell_type": "markdown",
   "metadata": {},
   "source": [
    "## Exercise 3 - rlanders.csv, revisited\n",
    "\n",
    "The variable *Money* represents a gross annual salary (×100\\\\$). We assume this variable has a mean of $\\mu = 500$ with standard deviation $\\sigma = 98$. If we calculate the sample mean over the entire dataset (do this yourself!), it seems to support our assumptions. But what if we looked at\n",
    "men and women separately (variable *Gender*)?\n",
    "\n",
    "First, visualise this case by plotting a kernel density estimate of the variable *Money* over the entire dataset and split up according to *Gender*. Draw a vertical line for the assumed population mean and sample means.\n",
    "\n",
    "Use an appropriate statistical test to verify the statements below, usinge a significance level of $\\alpha = 5\\%$. For each statement, calculate the critical value(s) and the $p$-value.\n",
    "\n",
    "1. The average gross annual salary of men seems higher than the average. Is it also significantly higher?\n",
    "2. The average gross annual salary of women seems lower. Is it significantly lower?\n",
    "3. Calculate the region of acceptance for the average gross annual salary for the sample (men and women combined). In this case we want to verify if the sample mean is significantly different from the expected value, but it can be lower or higher.\n",
    "\n",
    "### Answers\n",
    "\n",
    "1. Sample mean: $\\overline{x} \\approx 507.535$, critical value: $g \\approx 511.456$, $p \\approx 0.1396$. We can **not** reject the null hypothesis. The gross annual income of men in this sample is not significantly higher than expected.\n",
    "2. Sample mean: $\\overline{x} \\approx 472.058$, critical value: $g \\approx 477.646$, $p \\approx 0.0199$. We can reject the null hypothesis. The gross annual income of women in this sample is significantly lower than expected.\n",
    "3. The acceptance region is the interval $[487.852, 512.148]$."
   ]
  }
 ],
 "metadata": {
  "kernelspec": {
   "display_name": "Python 3",
   "language": "python",
   "name": "python3"
  },
  "language_info": {
   "codemirror_mode": {
    "name": "ipython",
    "version": 3
   },
   "file_extension": ".py",
   "mimetype": "text/x-python",
   "name": "python",
   "nbconvert_exporter": "python",
   "pygments_lexer": "ipython3",
   "version": "3.10.10"
  }
 },
 "nbformat": 4,
 "nbformat_minor": 2
}
